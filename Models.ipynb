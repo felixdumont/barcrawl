{
 "cells": [
  {
   "cell_type": "code",
   "execution_count": 35,
   "metadata": {},
   "outputs": [],
   "source": [
    "from models.processing import filter_dataset, load_dataset\n",
    "from dataclasses import dataclass\n",
    "from typing import List\n",
    "import pandas as pd\n",
    "from gurobipy import *"
   ]
  },
  {
   "cell_type": "code",
   "execution_count": 14,
   "metadata": {},
   "outputs": [],
   "source": [
    "def load_dataset(data_input):\n",
    "    \"\"\"\n",
    "    Load dataset from the preprocessed CSV\n",
    "    :return:\n",
    "    \"\"\"\n",
    "    df = pd.read_csv(data_input)\n",
    "    return df"
   ]
  },
  {
   "cell_type": "code",
   "execution_count": 40,
   "metadata": {},
   "outputs": [],
   "source": [
    "def generate_distance_matrix(locations):\n",
    "    \"\"\"\n",
    "    Given a list of n tuples representing location coordinates, return an nxn matrix containing all of the distances\n",
    "    :param locations: list of n tuples representing location coordinates\n",
    "    :return: nxn matrix containing all of the distances\n",
    "    \"\"\"\n",
    "    return [[5 for i in locations] for j in locations]"
   ]
  },
  {
   "cell_type": "code",
   "execution_count": 2,
   "metadata": {},
   "outputs": [],
   "source": [
    "@dataclass\n",
    "class Bar:\n",
    "    name: str\n",
    "    latitude: str\n",
    "    longitude: str\n",
    "    rating: float"
   ]
  },
  {
   "cell_type": "code",
   "execution_count": 3,
   "metadata": {},
   "outputs": [],
   "source": [
    "@dataclass\n",
    "class Solution:\n",
    "    bars = List[Bar]\n",
    "    total_max_walking_time = float"
   ]
  },
  {
   "cell_type": "code",
   "execution_count": 50,
   "metadata": {},
   "outputs": [],
   "source": [
    "def get_optimal_route(df, start_time, end_time, bar_num, total_max_walking_time, max_walking_each):\n",
    "    \"\"\"\n",
    "\n",
    "    :param df:\n",
    "    :param start_time:\n",
    "    :param end_time:\n",
    "    :param bar_num:\n",
    "    :param total_max_walking_time:\n",
    "    :param max_walking_each:\n",
    "    :return: A Solution class object representing the optimal solution\n",
    "    \"\"\"\n",
    "    \n",
    "    #parameters\n",
    "    m=Model(\"opt_route\")\n",
    "    locations=df['name']\n",
    "    ratings=df['stars']\n",
    "    y=[]\n",
    "    x=[[0 for j in range(len(locations))] for i in range(len(locations))]\n",
    "    z=[[0 for k in range(bar_num)] for i in range (len(locations))]\n",
    "    dima=generate_distance_matrix(locations)\n",
    "    waittimes=wait_time(df)\n",
    "    \n",
    "    #create decision variables\n",
    "    for loc in locations:\n",
    "        y.append(m.addVar(vtype=GRB.BINARY, name=\"y_{}\".format(loc)))\n",
    "    \n",
    "    for i in range(len(locations)):\n",
    "        for j in range(len(locations)):\n",
    "            x[i][j]=m.addVar(vtype=GRB.BINARY,name=\"x_{},{}\".format(locations[i],locations[j]))\n",
    "            \n",
    "    for i in range(len(locations)):\n",
    "        for k in range(bar_num):\n",
    "            z[i][k]=m.addVar(vtype=GRB.BINARY,name=\"x_{},{}\".format(locations[i],k))\n",
    "     \n",
    "    #objective function\n",
    "    m.setObjective(quicksum([y[i]*ratings[i] for i in range(len(locations))]),GRB.MAXIMIZE)\n",
    "    \n",
    "    #constraints\n",
    "        #inbound arcs\n",
    "    for j in range(len(locations)):\n",
    "        m.addConstr(quicksum([x[i][j] for i in range(len(locations))])==y[j])\n",
    "        \n",
    "        #outbound arcs\n",
    "    for i in range(len(locations)):\n",
    "        m.addConstr(quicksum([x[i][j] for j in range(len(locations))])==y[i])\n",
    "    \n",
    "        #subtours\n",
    "    \n",
    "        #Locations visited\n",
    "    m.addConstr(quicksum(y)==bar_num)\n",
    "    \n",
    "        #max total walk time\n",
    "    m.addConstr(quicksum([x[i][j]*dima[i][j] for i in range(len(locations)) for j in range (len(locations))])<=total_max_walking_time)  \n",
    "    \n",
    "        #max walk time between locations\n",
    "    for i in range(len(locations)):\n",
    "        for j in range(len(locations)):\n",
    "            m.addConstr(x[i][j]*dima[i][j]<=max_walking_each)\n",
    "    \n",
    "        #rules about z\n",
    "    for k in range(bar_num):\n",
    "        m.addConstr(quicksum([z[i][k] for i in range(len(locations))])==1)\n",
    "                    \n",
    "    for i in range(len(locations)):\n",
    "        m.addConstr(quicksum([z[i][k] for k in range(bar_num)])<=1)\n",
    "    \n",
    "        #open  time\n",
    "    for zed in range(bar_num):\n",
    "        m.addConstr(start_time\n",
    "                    +quicksum([z[i][k]*dima[i][j] for i in range(bar_num) for j in range(bar_num) for k in range(zed+1)])\n",
    "                    +quicksum()\n",
    "     \n",
    "    m.setParam('TimeLimit', 30)\n",
    "    m.setParam('MIPFocus',1)\n",
    "    m.optimize()\n",
    "    return m,z,y,x"
   ]
  },
  {
   "cell_type": "code",
   "execution_count": 5,
   "metadata": {},
   "outputs": [],
   "source": [
    "def get_pareto_routes(df, start_time, end_time, bar_num, total_max_walking_time, max_walking_each):\n",
    "    \"\"\"\n",
    "    Returns total_max_walking_time / 5 suggested routes (e.g. one for 0-5 mins walk, one for 5-10 mins walk, etc.).\n",
    "    Pareto routes contain\n",
    "    :param df:\n",
    "    :param start_time:\n",
    "    :param end_time:\n",
    "    :param bar_num:\n",
    "    :param total_max_walking_time:\n",
    "    :param max_walking_each:\n",
    "    :return: A list of Solutions\n",
    "    \"\"\"\n",
    "    solutions = []\n",
    "    for max_time in range(0, int(total_max_walking_time), 5):\n",
    "        solutions.append(get_optimal_route(df, start_time, end_time, bar_num, max_time, max_walking_each))\n",
    "    pass"
   ]
  },
  {
   "cell_type": "code",
   "execution_count": 6,
   "metadata": {},
   "outputs": [],
   "source": [
    "def crawl_model(date, start_time, end_time, budget, bar_num,  total_max_walking_time,  max_walking_each, min_review_ct,\n",
    "                min_review, city):\n",
    "    \"\"\"\n",
    "    :param date:\n",
    "    :param start_time:\n",
    "    :param end_time:\n",
    "    :param budget:\n",
    "    :param bar_num:\n",
    "    :param total_max_walking_time:\n",
    "    :param max_walking_each:\n",
    "    :param min_review_ct:\n",
    "    :param min_review:\n",
    "    :param city:\n",
    "    :return:\n",
    "    \"\"\"\n",
    "\n",
    "    df = load_dataset()\n",
    "    df = filter_dataset(df, min_review_ct, min_review, date, budget, city)\n",
    "    pareto_df = get_pareto_routes(df, start_time, end_time, bar_num, total_max_walking_time, max_walking_each)\n",
    "\n",
    "    return pareto_df"
   ]
  },
  {
   "cell_type": "code",
   "execution_count": 16,
   "metadata": {},
   "outputs": [],
   "source": [
    "toronto_data=load_dataset('data\\\\business_example.csv')"
   ]
  },
  {
   "cell_type": "code",
   "execution_count": 24,
   "metadata": {},
   "outputs": [
    {
     "name": "stdout",
     "output_type": "stream",
     "text": [
      "Maman\n",
      "The Shameful Tiki Room\n",
      "Brass Taps Pizza Pub\n",
      "Shallow Groove Lounge\n",
      "Hogtown Pub & Oysters\n",
      "Stirling Room\n",
      "Panafest\n",
      "Bathurst Local\n",
      "Fiction Nightclub\n",
      "The Pickle Barrel\n"
     ]
    }
   ],
   "source": [
    "for loc in toronto_data[\"name\"][:10]:\n",
    "    print(loc)"
   ]
  },
  {
   "cell_type": "code",
   "execution_count": 28,
   "metadata": {},
   "outputs": [
    {
     "data": {
      "text/plain": [
       "3.0"
      ]
     },
     "execution_count": 28,
     "metadata": {},
     "output_type": "execute_result"
    }
   ],
   "source": [
    "strs=toronto_data['stars']\n",
    "strs[187]"
   ]
  },
  {
   "cell_type": "code",
   "execution_count": 51,
   "metadata": {},
   "outputs": [
    {
     "name": "stdout",
     "output_type": "stream",
     "text": [
      "Changed value of parameter TimeLimit to 30.0\n",
      "   Prev: 1e+100  Min: 0.0  Max: 1e+100  Default: 1e+100\n",
      "Changed value of parameter MIPFocus to 1\n",
      "   Prev: 0  Min: 0  Max: 3  Default: 0\n",
      "Optimize a model with 2658 rows, 2850 columns and 10750 nonzeros\n",
      "Variable types: 0 continuous, 2850 integer (2850 binary)\n",
      "Coefficient statistics:\n",
      "  Matrix range     [1e+00, 5e+00]\n",
      "  Objective range  [2e+00, 5e+00]\n",
      "  Bounds range     [1e+00, 1e+00]\n",
      "  RHS range        [1e+00, 6e+01]\n",
      "Found heuristic solution: objective 19.0000000\n",
      "Presolve removed 2557 rows and 300 columns\n",
      "Presolve time: 0.02s\n",
      "Presolved: 101 rows, 2550 columns, 5150 nonzeros\n",
      "Variable types: 0 continuous, 2550 integer (2550 binary)\n",
      "\n",
      "Root relaxation: objective 2.850000e+01, 106 iterations, 0.00 seconds\n",
      "\n",
      "    Nodes    |    Current Node    |     Objective Bounds      |     Work\n",
      " Expl Unexpl |  Obj  Depth IntInf | Incumbent    BestBd   Gap | It/Node Time\n",
      "\n",
      "*    0     0               0      28.5000000   28.50000  0.00%     -    0s\n",
      "\n",
      "Explored 0 nodes (106 simplex iterations) in 0.06 seconds\n",
      "Thread count was 8 (of 8 available processors)\n",
      "\n",
      "Solution count 2: 28.5 19 \n",
      "\n",
      "Optimal solution found (tolerance 1.00e-04)\n",
      "Best objective 2.850000000000e+01, best bound 2.850000000000e+01, gap 0.0000%\n"
     ]
    }
   ],
   "source": [
    "wait_time=generate_distance_matrix\n",
    "optrout,z,y,x=get_optimal_route(toronto_data[:50], 12, 17, 6, 60, 10,45)"
   ]
  },
  {
   "cell_type": "code",
   "execution_count": 55,
   "metadata": {},
   "outputs": [
    {
     "name": "stdout",
     "output_type": "stream",
     "text": [
      "[<gurobi.Var y_Another Bar (value 1.0)>, <gurobi.Var y_I'll Be Seeing You (value 1.0)>, <gurobi.Var y_Koerner Hall (value 1.0)>, <gurobi.Var y_King's Belly English Pub (value 1.0)>, <gurobi.Var y_Locus144 (value 1.0)>, <gurobi.Var y_Koricancha Restaurant (value 1.0)>]\n"
     ]
    }
   ],
   "source": [
    "print([i for i in y if i.x==1])"
   ]
  },
  {
   "cell_type": "code",
   "execution_count": 1,
   "metadata": {},
   "outputs": [
    {
     "data": {
      "text/plain": [
       "[]"
      ]
     },
     "execution_count": 1,
     "metadata": {},
     "output_type": "execute_result"
    }
   ],
   "source": [
    "list(range(0))"
   ]
  },
  {
   "cell_type": "code",
   "execution_count": 3,
   "metadata": {},
   "outputs": [],
   "source": [
    "mat=[[1,2,3],\n",
    "    [4,5,6],\n",
    "    [7,8,9]]\n",
    "biny=[0,1,0]"
   ]
  },
  {
   "cell_type": "code",
   "execution_count": 7,
   "metadata": {},
   "outputs": [
    {
     "ename": "NameError",
     "evalue": "name 'j' is not defined",
     "output_type": "error",
     "traceback": [
      "\u001b[1;31m---------------------------------------------------------------------------\u001b[0m",
      "\u001b[1;31mNameError\u001b[0m                                 Traceback (most recent call last)",
      "\u001b[1;32m<ipython-input-7-2d4d99236a4b>\u001b[0m in \u001b[0;36m<module>\u001b[1;34m\u001b[0m\n\u001b[1;32m----> 1\u001b[1;33m \u001b[1;33m[\u001b[0m\u001b[0mbiny\u001b[0m\u001b[1;33m[\u001b[0m\u001b[0mj\u001b[0m\u001b[1;33m]\u001b[0m\u001b[1;33m*\u001b[0m\u001b[0mrow\u001b[0m\u001b[1;33m[\u001b[0m\u001b[0mj\u001b[0m\u001b[1;33m]\u001b[0m \u001b[1;32mfor\u001b[0m \u001b[0mrow\u001b[0m \u001b[1;32min\u001b[0m \u001b[1;33m[\u001b[0m\u001b[0mbiny\u001b[0m\u001b[1;33m[\u001b[0m\u001b[0mi\u001b[0m\u001b[1;33m]\u001b[0m\u001b[1;33m*\u001b[0m\u001b[0mmat\u001b[0m\u001b[1;33m[\u001b[0m\u001b[0mi\u001b[0m\u001b[1;33m]\u001b[0m \u001b[1;32mfor\u001b[0m \u001b[0mi\u001b[0m \u001b[1;32min\u001b[0m \u001b[0mrange\u001b[0m\u001b[1;33m(\u001b[0m\u001b[0mlen\u001b[0m\u001b[1;33m(\u001b[0m\u001b[0mbiny\u001b[0m\u001b[1;33m)\u001b[0m\u001b[1;33m)\u001b[0m\u001b[1;33m]\u001b[0m\u001b[1;33m]\u001b[0m\u001b[1;33m\u001b[0m\u001b[1;33m\u001b[0m\u001b[0m\n\u001b[0m",
      "\u001b[1;32m<ipython-input-7-2d4d99236a4b>\u001b[0m in \u001b[0;36m<listcomp>\u001b[1;34m(.0)\u001b[0m\n\u001b[1;32m----> 1\u001b[1;33m \u001b[1;33m[\u001b[0m\u001b[0mbiny\u001b[0m\u001b[1;33m[\u001b[0m\u001b[0mj\u001b[0m\u001b[1;33m]\u001b[0m\u001b[1;33m*\u001b[0m\u001b[0mrow\u001b[0m\u001b[1;33m[\u001b[0m\u001b[0mj\u001b[0m\u001b[1;33m]\u001b[0m \u001b[1;32mfor\u001b[0m \u001b[0mrow\u001b[0m \u001b[1;32min\u001b[0m \u001b[1;33m[\u001b[0m\u001b[0mbiny\u001b[0m\u001b[1;33m[\u001b[0m\u001b[0mi\u001b[0m\u001b[1;33m]\u001b[0m\u001b[1;33m*\u001b[0m\u001b[0mmat\u001b[0m\u001b[1;33m[\u001b[0m\u001b[0mi\u001b[0m\u001b[1;33m]\u001b[0m \u001b[1;32mfor\u001b[0m \u001b[0mi\u001b[0m \u001b[1;32min\u001b[0m \u001b[0mrange\u001b[0m\u001b[1;33m(\u001b[0m\u001b[0mlen\u001b[0m\u001b[1;33m(\u001b[0m\u001b[0mbiny\u001b[0m\u001b[1;33m)\u001b[0m\u001b[1;33m)\u001b[0m\u001b[1;33m]\u001b[0m\u001b[1;33m]\u001b[0m\u001b[1;33m\u001b[0m\u001b[1;33m\u001b[0m\u001b[0m\n\u001b[0m",
      "\u001b[1;31mNameError\u001b[0m: name 'j' is not defined"
     ]
    }
   ],
   "source": [
    "[biny[j]*row[j] for row in [biny[i]*mat[i] for i in range(len(biny))]]"
   ]
  },
  {
   "cell_type": "code",
   "execution_count": 5,
   "metadata": {},
   "outputs": [
    {
     "data": {
      "text/plain": [
       "[]"
      ]
     },
     "execution_count": 5,
     "metadata": {},
     "output_type": "execute_result"
    }
   ],
   "source": [
    "0*[1,2,3]"
   ]
  },
  {
   "cell_type": "code",
   "execution_count": null,
   "metadata": {},
   "outputs": [],
   "source": []
  }
 ],
 "metadata": {
  "kernelspec": {
   "display_name": "Python 3",
   "language": "python",
   "name": "python3"
  },
  "language_info": {
   "codemirror_mode": {
    "name": "ipython",
    "version": 3
   },
   "file_extension": ".py",
   "mimetype": "text/x-python",
   "name": "python",
   "nbconvert_exporter": "python",
   "pygments_lexer": "ipython3",
   "version": "3.7.3"
  }
 },
 "nbformat": 4,
 "nbformat_minor": 2
}
