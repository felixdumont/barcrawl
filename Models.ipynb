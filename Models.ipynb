{
 "cells": [
  {
   "cell_type": "code",
   "execution_count": 1,
   "metadata": {},
   "outputs": [],
   "source": [
    "from models.processing import filter_dataset, load_dataset\n",
    "from dataclasses import dataclass\n",
    "from typing import List\n",
    "import pandas as pd"
   ]
  },
  {
   "cell_type": "code",
   "execution_count": 2,
   "metadata": {},
   "outputs": [],
   "source": [
    "@dataclass\n",
    "class Bar:\n",
    "    name: str\n",
    "    latitude: str\n",
    "    longitude: str\n",
    "    rating: float"
   ]
  },
  {
   "cell_type": "code",
   "execution_count": 3,
   "metadata": {},
   "outputs": [],
   "source": [
    "@dataclass\n",
    "class Solution:\n",
    "    bars = List[Bar]\n",
    "    total_max_walking_time = float"
   ]
  },
  {
   "cell_type": "code",
   "execution_count": 4,
   "metadata": {},
   "outputs": [],
   "source": [
    "def get_optimal_route(df, start_time, end_time, bar_num, total_max_walking_time, max_walking_each):\n",
    "    \"\"\"\n",
    "\n",
    "    :param df:\n",
    "    :param start_time:\n",
    "    :param end_time:\n",
    "    :param bar_num:\n",
    "    :param total_max_walking_time:\n",
    "    :param max_walking_each:\n",
    "    :return: A Solution class object representing the optimal solution\n",
    "    \"\"\"\n",
    "    return"
   ]
  },
  {
   "cell_type": "code",
   "execution_count": 5,
   "metadata": {},
   "outputs": [],
   "source": [
    "def get_pareto_routes(df, start_time, end_time, bar_num, total_max_walking_time, max_walking_each):\n",
    "    \"\"\"\n",
    "    Returns total_max_walking_time / 5 suggested routes (e.g. one for 0-5 mins walk, one for 5-10 mins walk, etc.).\n",
    "    Pareto routes contain\n",
    "    :param df:\n",
    "    :param start_time:\n",
    "    :param end_time:\n",
    "    :param bar_num:\n",
    "    :param total_max_walking_time:\n",
    "    :param max_walking_each:\n",
    "    :return: A list of Solutions\n",
    "    \"\"\"\n",
    "    solutions = []\n",
    "    for max_time in range(0, int(total_max_walking_time), 5):\n",
    "        solutions.append(get_optimal_route(df, start_time, end_time, bar_num, max_time, max_walking_each))\n",
    "    pass"
   ]
  },
  {
   "cell_type": "code",
   "execution_count": 6,
   "metadata": {},
   "outputs": [],
   "source": [
    "def crawl_model(date, start_time, end_time, budget, bar_num,  total_max_walking_time,  max_walking_each, min_review_ct,\n",
    "                min_review, city):\n",
    "    \"\"\"\n",
    "    :param date:\n",
    "    :param start_time:\n",
    "    :param end_time:\n",
    "    :param budget:\n",
    "    :param bar_num:\n",
    "    :param total_max_walking_time:\n",
    "    :param max_walking_each:\n",
    "    :param min_review_ct:\n",
    "    :param min_review:\n",
    "    :param city:\n",
    "    :return:\n",
    "    \"\"\"\n",
    "\n",
    "    df = load_dataset()\n",
    "    df = filter_dataset(df, min_review_ct, min_review, date, budget, city)\n",
    "    pareto_df = get_pareto_routes(df, start_time, end_time, bar_num, total_max_walking_time, max_walking_each)\n",
    "\n",
    "    return pareto_df"
   ]
  },
  {
   "cell_type": "code",
   "execution_count": null,
   "metadata": {},
   "outputs": [],
   "source": []
  }
 ],
 "metadata": {
  "kernelspec": {
   "display_name": "Python 3",
   "language": "python",
   "name": "python3"
  },
  "language_info": {
   "codemirror_mode": {
    "name": "ipython",
    "version": 3
   },
   "file_extension": ".py",
   "mimetype": "text/x-python",
   "name": "python",
   "nbconvert_exporter": "python",
   "pygments_lexer": "ipython3",
   "version": "3.7.3"
  }
 },
 "nbformat": 4,
 "nbformat_minor": 2
}
