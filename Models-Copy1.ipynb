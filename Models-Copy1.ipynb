{
 "cells": [
  {
   "cell_type": "code",
   "execution_count": 6,
   "metadata": {},
   "outputs": [],
   "source": [
    "from models.processing import filter_dataset, load_dataset\n",
    "from dataclasses import dataclass\n",
    "from typing import List\n",
    "import pandas as pd\n",
    "from gurobipy import *"
   ]
  },
  {
   "cell_type": "code",
   "execution_count": 4,
   "metadata": {},
   "outputs": [],
   "source": [
    "def load_dataset(data_input):\n",
    "    \"\"\"\n",
    "    Load dataset from the preprocessed CSV\n",
    "    :return:\n",
    "    \"\"\"\n",
    "    df = pd.read_csv(data_input)\n",
    "    return df"
   ]
  },
  {
   "cell_type": "code",
   "execution_count": 11,
   "metadata": {},
   "outputs": [],
   "source": [
    "import random\n",
    "def generate_distance_matrix(locations):\n",
    "    \"\"\"\n",
    "    Given a list of n tuples representing location coordinates, return an nxn matrix containing all of the distances\n",
    "    :param locations: list of n tuples representing location coordinates\n",
    "    :return: nxn matrix containing all of the distances\n",
    "    \"\"\"\n",
    "    dima=[[0 for i in range(len(locations))] for j in range(len(locations))]\n",
    "    for i in range(len(locations)):\n",
    "        for j in range(len(locations)):\n",
    "            if i==j:\n",
    "                dima[i][j]=0\n",
    "            elif dima[j][i]!=0:\n",
    "                dima[i][j]=dima[j][i]\n",
    "            else:\n",
    "                dima[i][j]=random.randint(1,101)\n",
    "    return dima"
   ]
  },
  {
   "cell_type": "code",
   "execution_count": 2,
   "metadata": {},
   "outputs": [],
   "source": [
    "@dataclass\n",
    "class Bar:\n",
    "    name: str\n",
    "    latitude: str\n",
    "    longitude: str\n",
    "    rating: float"
   ]
  },
  {
   "cell_type": "code",
   "execution_count": 3,
   "metadata": {},
   "outputs": [],
   "source": [
    "@dataclass\n",
    "class Solution:\n",
    "    bars = List[Bar]\n",
    "    total_max_walking_time = float"
   ]
  },
  {
   "cell_type": "code",
   "execution_count": 118,
   "metadata": {},
   "outputs": [],
   "source": [
    "def get_optimal_route(df, start_time, end_time, bar_num, total_max_walking_time, max_walking_each):\n",
    "    \"\"\"\n",
    "\n",
    "    :param df:\n",
    "    :param start_time:\n",
    "    :param end_time:\n",
    "    :param bar_num:\n",
    "    :param total_max_walking_time:\n",
    "    :param max_walking_each:\n",
    "    :return: A Solution class object representing the optimal solution\n",
    "    \"\"\"\n",
    "    \n",
    "    #parameters\n",
    "    bigm=999999\n",
    "    m=Model(\"opt_route\")\n",
    "    locations=df['name']\n",
    "    ratings=df['stars']\n",
    "    open_times=df['open']\n",
    "    close_times=df['close']\n",
    "    y=[]\n",
    "    x=[[0 for j in range(len(locations))] for i in range(len(locations))]\n",
    "    z=[[[0 for j in range(len(locations))] for i in range(len(locations))] for k in range(bar_num-1)]\n",
    "    dima=generate_distance_matrix(locations)\n",
    "    waittimes=wait_time(df)\n",
    "    \n",
    "    #create decision variables\n",
    "    for loc in locations:\n",
    "        y.append(m.addVar(vtype=GRB.BINARY, name=\"y_{}\".format(loc)))\n",
    "    \n",
    "    for i in range(len(locations)):\n",
    "        for j in range(len(locations)):\n",
    "            x[i][j]=m.addVar(vtype=GRB.BINARY,name=\"x_{},{}\".format(locations[i],locations[j]))\n",
    "            \n",
    "    for k in range(bar_num-1):\n",
    "        for i in range(len(locations)):\n",
    "            for j in range(len(locations)):\n",
    "                z[k][i][j]=m.addVar(vtype=GRB.BINARY,name=\"z_{},{},{}\".format(k,locations[i],locations[j]))\n",
    "     \n",
    "    #objective function\n",
    "    m.setObjective(quicksum([y[i]*ratings[i] for i in range(len(locations))]),GRB.MAXIMIZE)\n",
    "    \n",
    "    #constraints\n",
    "        #no movements between the same bar\n",
    "#     for i in range(len(locations)):\n",
    "#         m.addConstr(x[i][i]==0)\n",
    "    \n",
    "        #inbound arcs\n",
    "#     for j in range(len(locations)):\n",
    "#         m.addConstr(quicksum([x[i][j] for i in range(len(locations))])==y[j])\n",
    "        \n",
    "        #outbound arcs\n",
    "#     for i in range(len(locations)):\n",
    "#         m.addConstr(quicksum([x[i][j] for j in range(len(locations))])==y[i])\n",
    "    \n",
    "        #subtours\n",
    "    \n",
    "        #Locations visited\n",
    "    m.addConstr(quicksum(y)==bar_num)\n",
    "    \n",
    "        #max total walk time\n",
    "#     m.addConstr(quicksum([x[i][j]*dima[i][j] for i in range(len(locations)) for j in range (len(locations))])<=total_max_walking_time)  \n",
    "    \n",
    "#         #max walk time between locations\n",
    "#     for i in range(len(locations)):\n",
    "#         for j in range(len(locations)):\n",
    "#             m.addConstr(x[i][j]*dima[i][j]<=max_walking_each)\n",
    "    \n",
    "        #rules about z\n",
    "        #no movements between the same bar\n",
    "    for k in range(bar_num-1):\n",
    "        for i in range(len(locations)):\n",
    "            m.addConstr(z[k][i][i]==0)\n",
    "            \n",
    "        #froms/tos upper bound\n",
    "    for i in range(len(locations)):\n",
    "        m.addConstr(quicksum([z[k][i][j] for k in range(bar_num - 1) for j in range(len(locations))])\n",
    "                    +quicksum([z[k][j][i] for k in range(bar_num - 1) for j in range (len(locations))])\n",
    "                    <= bigm*y[i])\n",
    "        \n",
    "        #froms/tos lower bound\n",
    "    for i in range(len(locations)):\n",
    "        m.addConstr(quicksum([z[k][i][j] for k in range(bar_num - 1) for j in range(len(locations))])\n",
    "                    +quicksum([z[k][j][i] for k in range(bar_num - 1) for j in range (len(locations))])\n",
    "                    >= y[i]/bigm)\n",
    "        \n",
    "        #can only have one 1 per movement matrix\n",
    "    for k in range(bar_num-1):\n",
    "        m.addConstr(quicksum([z[k][i][j] for i in range(len(locations)) for j in range (len(locations))])==1)\n",
    "    \n",
    "# #     #must have the same value as xij\n",
    "#     for i in range(len(locations)):\n",
    "#         for j in range(len(locations)):\n",
    "#             m.addConstr(quicksum([z[k][i][j] for k in range(bar_num-1)])==x[i][j])\n",
    "              \n",
    "    #make sure we don't vist the same bar twice\n",
    "    #dimension1\n",
    "    for i in range(len(locations)):\n",
    "        m.addConstr(quicksum([z[k][i][j] for j in range(len(locations)) for k in range (bar_num-1)])<=1)\n",
    "     \n",
    "     #dimension2\n",
    "    for j in range(len(locations)):\n",
    "        m.addConstr(quicksum([z[k][i][j] for i in range(len(locations)) for k in range (bar_num-1)])<=1)\n",
    "        \n",
    "     #have to start from the bar you previously went to\n",
    "    for k in range(1,bar_num-1):\n",
    "        for i in range(len(locations)):\n",
    "            m.addConstr(quicksum([z[k-1][j][i] for j in range(len(locations))])==quicksum([z[k][i][j] for j in range(len(locations))]))\n",
    "    \n",
    "    #open  time - only distance is considered for the time being\n",
    "    for zed in range(bar_num):\n",
    "        m.addConstr(start_time+quicksum([z[k][i][j]*dima[i][j] for k in range(zed-1)])\n",
    "                    >=quicksum([open_times[i]*quicksum(z[zed][i]) for i in range(len(locations))])) \n",
    "       \n",
    "    #close time - only distance is considered for the time beeing\n",
    "    for zed in range(bar_num):\n",
    "        m.addConstr(start_time+quicksum([z[k][i][j]*dima[i][j] for k in range(zed-1)])\n",
    "                    <=quicksum([close_times[i]*quicksum(z[zed][i]) for i in range(len(locations))])) \n",
    "     \n",
    "    #m.setParam('TimeLimit', 30)\n",
    "    #m.setParam('MIPFocus',1)\n",
    "    m.optimize()\n",
    "    return m,z,y,x,dima"
   ]
  },
  {
   "cell_type": "code",
   "execution_count": 5,
   "metadata": {},
   "outputs": [],
   "source": [
    "def get_pareto_routes(df, start_time, end_time, bar_num, total_max_walking_time, max_walking_each):\n",
    "    \"\"\"\n",
    "    Returns total_max_walking_time / 5 suggested routes (e.g. one for 0-5 mins walk, one for 5-10 mins walk, etc.).\n",
    "    Pareto routes contain\n",
    "    :param df:\n",
    "    :param start_time:\n",
    "    :param end_time:\n",
    "    :param bar_num:\n",
    "    :param total_max_walking_time:\n",
    "    :param max_walking_each:\n",
    "    :return: A list of Solutions\n",
    "    \"\"\"\n",
    "    solutions = []\n",
    "    for max_time in range(0, int(total_max_walking_time), 5):\n",
    "        solutions.append(get_optimal_route(df, start_time, end_time, bar_num, max_time, max_walking_each))\n",
    "    pass"
   ]
  },
  {
   "cell_type": "code",
   "execution_count": 6,
   "metadata": {},
   "outputs": [],
   "source": [
    "def crawl_model(date, start_time, end_time, budget, bar_num,  total_max_walking_time,  max_walking_each, min_review_ct,\n",
    "                min_review, city):\n",
    "    \"\"\"\n",
    "    :param date:\n",
    "    :param start_time:\n",
    "    :param end_time:\n",
    "    :param budget:\n",
    "    :param bar_num:\n",
    "    :param total_max_walking_time:\n",
    "    :param max_walking_each:\n",
    "    :param min_review_ct:\n",
    "    :param min_review:\n",
    "    :param city:\n",
    "    :return:\n",
    "    \"\"\"\n",
    "\n",
    "    df = load_dataset()\n",
    "    df = filter_dataset(df, min_review_ct, min_review, date, budget, city)\n",
    "    pareto_df = get_pareto_routes(df, start_time, end_time, bar_num, total_max_walking_time, max_walking_each)\n",
    "\n",
    "    return pareto_df"
   ]
  },
  {
   "cell_type": "code",
   "execution_count": 111,
   "metadata": {},
   "outputs": [],
   "source": [
    "toronto_data=load_dataset('data\\\\business_example_HBmod.csv')"
   ]
  },
  {
   "cell_type": "code",
   "execution_count": null,
   "metadata": {},
   "outputs": [],
   "source": []
  },
  {
   "cell_type": "code",
   "execution_count": 115,
   "metadata": {},
   "outputs": [],
   "source": [
    "pd.DataFrame(dima).to_csv('dima.csv')"
   ]
  },
  {
   "cell_type": "code",
   "execution_count": 28,
   "metadata": {},
   "outputs": [
    {
     "data": {
      "text/plain": [
       "3.0"
      ]
     },
     "execution_count": 28,
     "metadata": {},
     "output_type": "execute_result"
    }
   ],
   "source": [
    "strs=toronto_data['stars']\n",
    "strs[187]"
   ]
  },
  {
   "cell_type": "code",
   "execution_count": 119,
   "metadata": {},
   "outputs": [
    {
     "ename": "IndexError",
     "evalue": "list index out of range",
     "output_type": "error",
     "traceback": [
      "\u001b[1;31m---------------------------------------------------------------------------\u001b[0m",
      "\u001b[1;31mIndexError\u001b[0m                                Traceback (most recent call last)",
      "\u001b[1;32m<ipython-input-119-b275d0034e40>\u001b[0m in \u001b[0;36m<module>\u001b[1;34m\u001b[0m\n\u001b[0;32m      1\u001b[0m \u001b[0mwait_time\u001b[0m\u001b[1;33m=\u001b[0m\u001b[0mgenerate_distance_matrix\u001b[0m\u001b[1;33m\u001b[0m\u001b[1;33m\u001b[0m\u001b[0m\n\u001b[1;32m----> 2\u001b[1;33m \u001b[0moptrout\u001b[0m\u001b[1;33m,\u001b[0m\u001b[0mz\u001b[0m\u001b[1;33m,\u001b[0m\u001b[0my\u001b[0m\u001b[1;33m,\u001b[0m\u001b[0mx\u001b[0m\u001b[1;33m,\u001b[0m\u001b[0mdima\u001b[0m\u001b[1;33m=\u001b[0m\u001b[0mget_optimal_route\u001b[0m\u001b[1;33m(\u001b[0m\u001b[0mtoronto_data\u001b[0m\u001b[1;33m[\u001b[0m\u001b[1;33m:\u001b[0m\u001b[1;36m50\u001b[0m\u001b[1;33m]\u001b[0m\u001b[1;33m,\u001b[0m \u001b[1;36m12\u001b[0m\u001b[1;33m,\u001b[0m \u001b[1;36m17\u001b[0m\u001b[1;33m,\u001b[0m \u001b[1;36m6\u001b[0m\u001b[1;33m,\u001b[0m \u001b[1;36m999999\u001b[0m\u001b[1;33m,\u001b[0m \u001b[1;36m999999\u001b[0m\u001b[1;33m)\u001b[0m\u001b[1;33m\u001b[0m\u001b[1;33m\u001b[0m\u001b[0m\n\u001b[0m",
      "\u001b[1;32m<ipython-input-118-a0f870cf2f86>\u001b[0m in \u001b[0;36mget_optimal_route\u001b[1;34m(df, start_time, end_time, bar_num, total_max_walking_time, max_walking_each)\u001b[0m\n\u001b[0;32m    110\u001b[0m     \u001b[1;32mfor\u001b[0m \u001b[0mzed\u001b[0m \u001b[1;32min\u001b[0m \u001b[0mrange\u001b[0m\u001b[1;33m(\u001b[0m\u001b[0mbar_num\u001b[0m\u001b[1;33m)\u001b[0m\u001b[1;33m:\u001b[0m\u001b[1;33m\u001b[0m\u001b[1;33m\u001b[0m\u001b[0m\n\u001b[0;32m    111\u001b[0m         m.addConstr(start_time+quicksum([z[k][i][j]*dima[i][j] for k in range(zed-1)])\n\u001b[1;32m--> 112\u001b[1;33m                     >=quicksum([open_times[i]*quicksum(z[zed][i]) for i in range(len(locations))])) \n\u001b[0m\u001b[0;32m    113\u001b[0m \u001b[1;33m\u001b[0m\u001b[0m\n\u001b[0;32m    114\u001b[0m     \u001b[1;31m#close time - only distance is considered for the time beeing\u001b[0m\u001b[1;33m\u001b[0m\u001b[1;33m\u001b[0m\u001b[1;33m\u001b[0m\u001b[0m\n",
      "\u001b[1;32m<ipython-input-118-a0f870cf2f86>\u001b[0m in \u001b[0;36m<listcomp>\u001b[1;34m(.0)\u001b[0m\n\u001b[0;32m    110\u001b[0m     \u001b[1;32mfor\u001b[0m \u001b[0mzed\u001b[0m \u001b[1;32min\u001b[0m \u001b[0mrange\u001b[0m\u001b[1;33m(\u001b[0m\u001b[0mbar_num\u001b[0m\u001b[1;33m)\u001b[0m\u001b[1;33m:\u001b[0m\u001b[1;33m\u001b[0m\u001b[1;33m\u001b[0m\u001b[0m\n\u001b[0;32m    111\u001b[0m         m.addConstr(start_time+quicksum([z[k][i][j]*dima[i][j] for k in range(zed-1)])\n\u001b[1;32m--> 112\u001b[1;33m                     >=quicksum([open_times[i]*quicksum(z[zed][i]) for i in range(len(locations))])) \n\u001b[0m\u001b[0;32m    113\u001b[0m \u001b[1;33m\u001b[0m\u001b[0m\n\u001b[0;32m    114\u001b[0m     \u001b[1;31m#close time - only distance is considered for the time beeing\u001b[0m\u001b[1;33m\u001b[0m\u001b[1;33m\u001b[0m\u001b[1;33m\u001b[0m\u001b[0m\n",
      "\u001b[1;31mIndexError\u001b[0m: list index out of range"
     ]
    }
   ],
   "source": [
    "wait_time=generate_distance_matrix\n",
    "optrout,z,y,x,dima=get_optimal_route(toronto_data[:50], 12, 17, 6, 999999, 999999)"
   ]
  },
  {
   "cell_type": "code",
   "execution_count": 113,
   "metadata": {},
   "outputs": [
    {
     "name": "stdout",
     "output_type": "stream",
     "text": [
      "<gurobi.Var z_0,Koerner Hall,Stirling Room (value 1.0)>\n",
      "<gurobi.Var z_1,Stirling Room,Another Bar (value 1.0)>\n",
      "<gurobi.Var z_2,Another Bar,Koricancha Restaurant (value 1.0)>\n",
      "<gurobi.Var z_3,Koricancha Restaurant,Bathurst Local (value 1.0)>\n",
      "<gurobi.Var z_4,Bathurst Local,I'll Be Seeing You (value 1.0)>\n"
     ]
    }
   ],
   "source": [
    "for k in range(6-1):\n",
    "    for i in range(50):\n",
    "        for j in range(50):\n",
    "            if z[k][i][j].x!=0:\n",
    "                print(z[k][i][j])"
   ]
  },
  {
   "cell_type": "code",
   "execution_count": 117,
   "metadata": {},
   "outputs": [
    {
     "data": {
      "text/plain": [
       "0      17.0\n",
       "1      11.0\n",
       "2      18.0\n",
       "3      16.0\n",
       "4      22.0\n",
       "5      13.0\n",
       "6      20.0\n",
       "7       9.0\n",
       "8      17.5\n",
       "9      10.0\n",
       "10     11.0\n",
       "11     18.0\n",
       "12     12.0\n",
       "13     17.0\n",
       "14     11.0\n",
       "15      8.0\n",
       "16     17.0\n",
       "17     16.0\n",
       "18     10.0\n",
       "19     11.5\n",
       "20     11.0\n",
       "21     16.0\n",
       "22     18.0\n",
       "23     16.0\n",
       "24     11.0\n",
       "25     15.0\n",
       "26     20.0\n",
       "27     16.0\n",
       "28     11.5\n",
       "29     19.0\n",
       "       ... \n",
       "958    11.0\n",
       "959    21.0\n",
       "960    11.0\n",
       "961    16.0\n",
       "962    11.0\n",
       "963    18.0\n",
       "964    17.0\n",
       "965    17.0\n",
       "966    17.0\n",
       "967    10.5\n",
       "968    11.0\n",
       "969    10.5\n",
       "970    15.0\n",
       "971    11.0\n",
       "972    11.0\n",
       "973    17.0\n",
       "974    10.0\n",
       "975    10.0\n",
       "976    11.5\n",
       "977    13.0\n",
       "978    11.0\n",
       "979    20.0\n",
       "980    11.0\n",
       "981    17.0\n",
       "982    11.0\n",
       "983     9.0\n",
       "984    11.5\n",
       "985    10.0\n",
       "986    17.0\n",
       "987    13.0\n",
       "Name: open, Length: 988, dtype: float64"
      ]
     },
     "execution_count": 117,
     "metadata": {},
     "output_type": "execute_result"
    }
   ],
   "source": [
    "toronto_data['open']"
   ]
  },
  {
   "cell_type": "code",
   "execution_count": null,
   "metadata": {},
   "outputs": [],
   "source": []
  }
 ],
 "metadata": {
  "kernelspec": {
   "display_name": "Python 3",
   "language": "python",
   "name": "python3"
  },
  "language_info": {
   "codemirror_mode": {
    "name": "ipython",
    "version": 3
   },
   "file_extension": ".py",
   "mimetype": "text/x-python",
   "name": "python",
   "nbconvert_exporter": "python",
   "pygments_lexer": "ipython3",
   "version": "3.7.3"
  }
 },
 "nbformat": 4,
 "nbformat_minor": 2
}
