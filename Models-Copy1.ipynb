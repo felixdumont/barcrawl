{
 "cells": [
  {
   "cell_type": "code",
   "execution_count": 2,
   "metadata": {},
   "outputs": [],
   "source": [
    "from models.processing import filter_dataset, load_dataset\n",
    "from dataclasses import dataclass\n",
    "from typing import List\n",
    "import pandas as pd\n",
    "from gurobipy import *"
   ]
  },
  {
   "cell_type": "code",
   "execution_count": 3,
   "metadata": {},
   "outputs": [],
   "source": [
    "def load_dataset(data_input):\n",
    "    \"\"\"\n",
    "    Load dataset from the preprocessed CSV\n",
    "    :return:\n",
    "    \"\"\"\n",
    "    df = pd.read_csv(data_input)\n",
    "    return df"
   ]
  },
  {
   "cell_type": "code",
   "execution_count": 4,
   "metadata": {},
   "outputs": [],
   "source": [
    "import random\n",
    "def generate_distance_matrix(locations):\n",
    "    \"\"\"\n",
    "    Given a list of n tuples representing location coordinates, return an nxn matrix containing all of the distances\n",
    "    :param locations: list of n tuples representing location coordinates\n",
    "    :return: nxn matrix containing all of the distances\n",
    "    \"\"\"\n",
    "    dima=[[0 for i in range(len(locations))] for j in range(len(locations))]\n",
    "    for i in range(len(locations)):\n",
    "        for j in range(len(locations)):\n",
    "            if i==j:\n",
    "                dima[i][j]=0\n",
    "            elif dima[j][i]!=0:\n",
    "                dima[i][j]=dima[j][i]\n",
    "            else:\n",
    "                dima[i][j]=random.randint(1,101)/180\n",
    "    return dima"
   ]
  },
  {
   "cell_type": "code",
   "execution_count": null,
   "metadata": {},
   "outputs": [],
   "source": []
  },
  {
   "cell_type": "code",
   "execution_count": 5,
   "metadata": {},
   "outputs": [],
   "source": [
    "@dataclass\n",
    "class Bar:\n",
    "    name: str\n",
    "    latitude: str\n",
    "    longitude: str\n",
    "    rating: float"
   ]
  },
  {
   "cell_type": "code",
   "execution_count": 6,
   "metadata": {},
   "outputs": [],
   "source": [
    "@dataclass\n",
    "class Solution:\n",
    "    bars = List[Bar]\n",
    "    total_max_walking_time = float"
   ]
  },
  {
   "cell_type": "code",
   "execution_count": null,
   "metadata": {},
   "outputs": [],
   "source": []
  },
  {
   "cell_type": "code",
   "execution_count": 76,
   "metadata": {},
   "outputs": [],
   "source": [
    "def get_optimal_route(df, start_time, end_time, bar_num, total_max_walking_time, max_walking_each, max_total_wait):\n",
    "    \"\"\"\n",
    "\n",
    "    :param df:\n",
    "    :param start_time:\n",
    "    :param end_time:\n",
    "    :param bar_num:\n",
    "    :param total_max_walking_time:\n",
    "    :param max_walking_each:\n",
    "    :return: A Solution class object representing the optimal solution\n",
    "    \"\"\"\n",
    "    \n",
    "    #parameters\n",
    "    bigm=999999\n",
    "    m=Model(\"opt_route\")\n",
    "    locations=df['name']\n",
    "    ratings=df['stars']\n",
    "    open_times = df['Friday open']\n",
    "    close_times = df['Friday close']\n",
    "    wait_times = df['wait_time']/60\n",
    "    \n",
    "    time_spent_each_bar = max(0.25, (end_time-start_time - total_max_walking_time - max_total_wait) / bar_num)\n",
    "    \n",
    "    y=[]\n",
    "    x=[[0 for j in range(len(locations))] for i in range(len(locations))]\n",
    "    z=[[[0 for j in range(len(locations))] for i in range(len(locations))] for k in range(bar_num-1)]\n",
    "    #dima=generate_distance_matrix(locations)\n",
    "\n",
    "    # create decision variables\n",
    "    for loc in locations:\n",
    "        y.append(m.addVar(vtype=GRB.BINARY, name=\"y_{}\".format(loc)))\n",
    "   \n",
    "    for k in range(bar_num-1):\n",
    "        for i in range(len(locations)):\n",
    "            for j in range(len(locations)):\n",
    "                z[k][i][j]=m.addVar(vtype=GRB.BINARY,name=\"z_{},{},{}\".format(k,locations[i],locations[j]))\n",
    "     \n",
    "    ### objective function\n",
    "    m.setObjective(quicksum([y[i]*ratings[i] for i in range(len(locations))]),GRB.MAXIMIZE)\n",
    "    \n",
    "    ### constraints\n",
    "    # Number of locations visited\n",
    "    m.addConstr(quicksum(y)==bar_num)\n",
    "    \n",
    "    # max total walk time\n",
    "    m.addConstr(quicksum([z[w][i][j] * dima[i][j] \n",
    "                                           for i in range(len(locations))\n",
    "                                           for j in range(len(locations))\n",
    "                                           for w in range(bar_num-1)]) <= total_max_walking_time)\n",
    "    \n",
    "    # max walk time between locations\n",
    "    for k in range(bar_num-1):\n",
    "        m.addConstr(quicksum([z[k][i][j] * dima[i][j] \n",
    "                                           for i in range(len(locations))\n",
    "                                           for j in range(len(locations))]) <= max_walking_each)\n",
    "    \n",
    "    # rules about z\n",
    "    # no movements between the same bar\n",
    "    for k in range(bar_num-1):\n",
    "        for i in range(len(locations)):\n",
    "            m.addConstr(z[k][i][i]==0)\n",
    "            \n",
    "    # froms/tos upper bound\n",
    "    for i in range(len(locations)):\n",
    "        m.addConstr(quicksum([z[k][i][j] for k in range(bar_num - 1) for j in range(len(locations))])\n",
    "                    +quicksum([z[k][j][i] for k in range(bar_num - 1) for j in range (len(locations))])\n",
    "                    <= bigm*y[i])\n",
    "        \n",
    "    # froms/tos lower bound\n",
    "    for i in range(len(locations)):\n",
    "        m.addConstr(quicksum([z[k][i][j] for k in range(bar_num - 1) for j in range(len(locations))])\n",
    "                    +quicksum([z[k][j][i] for k in range(bar_num - 1) for j in range (len(locations))])\n",
    "                    >= y[i]/bigm)\n",
    "        \n",
    "    # can only have one 1 per movement matrix\n",
    "    for k in range(bar_num-1):\n",
    "        m.addConstr(quicksum([z[k][i][j] for i in range(len(locations)) for j in range (len(locations))])==1)\n",
    "    \n",
    "    # make sure we don't vist the same bar twice\n",
    "    #dimension1\n",
    "    for i in range(len(locations)):\n",
    "        m.addConstr(quicksum([z[k][i][j] for j in range(len(locations)) for k in range (bar_num-1)])<=1)\n",
    "     \n",
    "    #dimension2\n",
    "    for j in range(len(locations)):\n",
    "        m.addConstr(quicksum([z[k][i][j] for i in range(len(locations)) for k in range (bar_num-1)])<=1)\n",
    "        \n",
    "    # have to start from the bar you previously went to\n",
    "    for k in range(1,bar_num-1):\n",
    "        for i in range(len(locations)):\n",
    "            m.addConstr(quicksum([z[k-1][j][i] \n",
    "                                  for j in range(len(locations))])==quicksum([z[k][i][j] for j in range(len(locations))]))\n",
    "    \n",
    "    #open  time - only distance is considered for the time being\n",
    "    for zed in range(bar_num-1):\n",
    "        m.addConstr(start_time + zed*time_spent_each_bar + quicksum([z[w][i][j] * (dima[i][j] + wait_times[i])\n",
    "                                           for i in range(len(locations))\n",
    "                                           for j in range(len(locations))\n",
    "                                           for w in range(zed)]) >= quicksum([open_times[i]*quicksum(z[zed][i])\n",
    "                                                                                for i in range(len(locations))]))\n",
    "    m.addConstr(start_time + zed*time_spent_each_bar + quicksum([z[w][i][j] * (dima[i][j] + wait_times[i])\n",
    "                                           for i in range(len(locations))\n",
    "                                           for j in range(len(locations))\n",
    "                                           for w in range(bar_num-1)]) >=\n",
    "                                quicksum([open_times[j]*quicksum([z[bar_num-2][i][j] for i in range(len(locations))])\n",
    "                                                                 for j in range(len(locations))]))\n",
    "    # Close time constraint            \n",
    "    for zed in range(bar_num-1):\n",
    "        m.addConstr(start_time + zed*time_spent_each_bar + quicksum([z[w][i][j] * (dima[i][j] + wait_times[i])\n",
    "                                           for i in range(len(locations))\n",
    "                                           for j in range(len(locations))\n",
    "                                           for w in range(zed)]) <= quicksum([close_times[i]*quicksum(z[zed][i])\n",
    "                                                                                for i in range(len(locations))]))\n",
    "    m.addConstr(start_time + zed*time_spent_each_bar + quicksum([z[w][i][j] * (dima[i][j] + wait_times[i]) \n",
    "                                           for i in range(len(locations))\n",
    "                                           for j in range(len(locations))\n",
    "                                           for w in range(bar_num-1)]) <=\n",
    "                                quicksum([close_times[j]*quicksum([z[bar_num-2][i][j] for i in range(len(locations))])\n",
    "                                                                 for j in range(len(locations))]))\n",
    "    \n",
    "    # Must exit last bar before close time\n",
    "    m.addConstr(start_time + zed*time_spent_each_bar + quicksum([z[w][i][j] * (dima[i][j] + wait_times[i])\n",
    "                                           for i in range(len(locations))\n",
    "                                           for j in range(len(locations))\n",
    "                                           for w in range(bar_num-1)]) <= end_time)\n",
    "\n",
    "    # Total wait time less than max allowed\n",
    "    m.addConstr(quicksum([wait_times[i]*y[i] for i in range(len(locations))]) <= max_total_wait)\n",
    "    m.setParam('TimeLimit', 30)\n",
    "    m.setParam('MIPFocus',1)\n",
    "    m.optimize()\n",
    "    return m,z,y,x,dima"
   ]
  },
  {
   "cell_type": "code",
   "execution_count": 71,
   "metadata": {},
   "outputs": [],
   "source": [
    "def get_pareto_routes(df, start_time, end_time, bar_num, total_max_walking_time, max_walking_each):\n",
    "    \"\"\"\n",
    "    Returns total_max_walking_time / 5 suggested routes (e.g. one for 0-5 mins walk, one for 5-10 mins walk, etc.).\n",
    "    Pareto routes contain\n",
    "    :param df:\n",
    "    :param start_time:\n",
    "    :param end_time:\n",
    "    :param bar_num:\n",
    "    :param total_max_walking_time:\n",
    "    :param max_walking_each:\n",
    "    :return: A list of Solutions\n",
    "    \"\"\"\n",
    "    solutions = []\n",
    "    for max_time in range(0, int(total_max_walking_time), 5):\n",
    "        solutions.append(get_optimal_route(df, start_time, end_time, bar_num, max_time, max_walking_each))\n",
    "    pass"
   ]
  },
  {
   "cell_type": "code",
   "execution_count": 79,
   "metadata": {},
   "outputs": [],
   "source": [
    "def crawl_model(date, start_time, end_time, budget, bar_num,  total_max_walking_time,  max_walking_each, min_review_ct,\n",
    "                min_review, city):\n",
    "    \"\"\"\n",
    "    :param date:\n",
    "    :param start_time:\n",
    "    :param end_time:\n",
    "    :param budget:\n",
    "    :param bar_num:\n",
    "    :param total_max_walking_time:\n",
    "    :param max_walking_each:\n",
    "    :param min_review_ct:\n",
    "    :param min_review:\n",
    "    :param city:\n",
    "    :return:\n",
    "    \"\"\"\n",
    "\n",
    "    df = load_dataset()\n",
    "    df = filter_dataset(df, min_review_ct, min_review, date, budget, city)\n",
    "    pareto_df = get_pareto_routes(df, start_time, end_time, bar_num, total_max_walking_time, max_walking_each)\n",
    "\n",
    "    return pareto_df"
   ]
  },
  {
   "cell_type": "code",
   "execution_count": 80,
   "metadata": {
    "scrolled": true
   },
   "outputs": [],
   "source": [
    "toronto_data=load_dataset('data/full_example.csv')"
   ]
  },
  {
   "cell_type": "code",
   "execution_count": 89,
   "metadata": {
    "scrolled": true
   },
   "outputs": [
    {
     "name": "stdout",
     "output_type": "stream",
     "text": [
      "Changed value of parameter TimeLimit to 30.0\n",
      "   Prev: 1e+100  Min: 0.0  Max: 1e+100  Default: 1e+100\n",
      "Changed value of parameter MIPFocus to 1\n",
      "   Prev: 0  Min: 0  Max: 3  Default: 0\n",
      "Optimize a model with 676 rows, 12550 columns and 243532 nonzeros\n",
      "Variable types: 0 continuous, 12550 integer (12550 binary)\n",
      "Coefficient statistics:\n",
      "  Matrix range     [1e-06, 1e+06]\n",
      "  Objective range  [2e+00, 5e+00]\n",
      "  Bounds range     [1e+00, 1e+00]\n",
      "  RHS range        [3e-01, 2e+01]\n",
      "Presolve removed 288 rows and 8501 columns\n",
      "Presolve time: 0.50s\n",
      "Presolved: 388 rows, 4049 columns, 62310 nonzeros\n",
      "Variable types: 0 continuous, 4049 integer (4048 binary)\n",
      "Found heuristic solution: objective 20.5000000\n",
      "Found heuristic solution: objective 22.0000000\n",
      "\n",
      "Root relaxation: objective 2.850000e+01, 649 iterations, 0.06 seconds\n",
      "\n",
      "    Nodes    |    Current Node    |     Objective Bounds      |     Work\n",
      " Expl Unexpl |  Obj  Depth IntInf | Incumbent    BestBd   Gap | It/Node Time\n",
      "\n",
      "*    0     0               0      28.5000000   28.50000  0.00%     -    0s\n",
      "\n",
      "Explored 0 nodes (1997 simplex iterations) in 0.76 seconds\n",
      "Thread count was 4 (of 4 available processors)\n",
      "\n",
      "Solution count 3: 28.5 22 20.5 \n",
      "\n",
      "Optimal solution found (tolerance 1.00e-04)\n",
      "Best objective 2.850000000000e+01, best bound 2.850000000000e+01, gap 0.0000%\n"
     ]
    }
   ],
   "source": [
    "toronto_data_filtered = toronto_data.loc[lambda f: ~f['Friday open'].isnull()].reset_index()\n",
    "#wait_time=generate_distance_matrix\n",
    "optrout,z,y,x,dima=get_optimal_route(toronto_data_filtered[:50], 17, 22, 6, 1.15, 0.25, 1)"
   ]
  },
  {
   "cell_type": "code",
   "execution_count": 95,
   "metadata": {},
   "outputs": [
    {
     "name": "stdout",
     "output_type": "stream",
     "text": [
      "y_Koerner Hall\n",
      "y_Arthur Murray Dance Studio\n",
      "y_Arthur Murray Dance Studio\n",
      "y_I'll Be Seeing You\n",
      "y_I'll Be Seeing You\n",
      "y_Locus144\n",
      "y_Locus144\n",
      "y_The Wicket Bar\n",
      "y_The Wicket Bar\n",
      "y_Another Bar\n",
      "0\n",
      "0.0\n"
     ]
    }
   ],
   "source": [
    "total_dist = 0\n",
    "total_wait = 0\n",
    "wait_time = toronto_data['wait_time']\n",
    "for k in range(len(z)):\n",
    "    for i in range(len(z[0])):\n",
    "        for j in range(len(z[0][0])):\n",
    "            if z[k][i][j].x!=0:\n",
    "                print(y[i].VarName)\n",
    "                print(y[j].VarName)\n",
    "print(total_dist)\n",
    "print(total_wait/60)"
   ]
  },
  {
   "cell_type": "code",
   "execution_count": 98,
   "metadata": {
    "scrolled": false
   },
   "outputs": [
    {
     "data": {
      "text/plain": [
       "28.5"
      ]
     },
     "execution_count": 98,
     "metadata": {},
     "output_type": "execute_result"
    }
   ],
   "source": [
    "optrout.objval"
   ]
  },
  {
   "cell_type": "code",
   "execution_count": null,
   "metadata": {},
   "outputs": [],
   "source": [
    "total_dist = 0\n",
    "total_wait = 0\n",
    "wait_time = toronto_data['wait_time']\n",
    "for k in range(6-1):\n",
    "    for i in range(50):\n",
    "        for j in range(50):\n",
    "            if z[k][i][j].x!=0:\n",
    "                print(z[k][i][j], k, i, j)\n",
    "                total_dist += dima[i][j]\n",
    "                total_wait += wait_time[i]\n",
    "print(total_dist)\n",
    "print(total_wait/60)"
   ]
  }
 ],
 "metadata": {
  "kernelspec": {
   "display_name": "Python 3",
   "language": "python",
   "name": "python3"
  },
  "language_info": {
   "codemirror_mode": {
    "name": "ipython",
    "version": 3
   },
   "file_extension": ".py",
   "mimetype": "text/x-python",
   "name": "python",
   "nbconvert_exporter": "python",
   "pygments_lexer": "ipython3",
   "version": "3.7.0"
  }
 },
 "nbformat": 4,
 "nbformat_minor": 2
}
